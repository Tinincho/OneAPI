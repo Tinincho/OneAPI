{
 "cells": [
  {
   "cell_type": "markdown",
   "id": "220e036c-b4c3-47ef-8a83-5fe6d0ace856",
   "metadata": {
    "tags": []
   },
   "source": [
    "## Test 1:\n",
    "Este programa muestra en pantalla los mensajes de varios procesos, especificando el número del hilo en el cual el proceso está trabajando. También muestra el total de hilos, el proceso actual del que proviene el hilo y el total de procesos que se están ejecutando."
   ]
  },
  {
   "cell_type": "code",
   "execution_count": null,
   "id": "0529e914-11f8-4852-a4e3-7924c45b6c13",
   "metadata": {},
   "outputs": [],
   "source": [
    "%pycat test_1.cpp"
   ]
  },
  {
   "cell_type": "code",
   "execution_count": null,
   "id": "c64eccca-7d36-44ab-b283-34c5a9bc3d68",
   "metadata": {},
   "outputs": [],
   "source": [
    "! mpicxx -fopenmp test_1.cpp -o test_1.out"
   ]
  },
  {
   "cell_type": "code",
   "execution_count": null,
   "id": "622b450c-ec93-4b6f-a808-fee278b3e44c",
   "metadata": {},
   "outputs": [],
   "source": [
    "! ./test_1.out"
   ]
  },
  {
   "cell_type": "code",
   "execution_count": null,
   "id": "6cd5cad3-fe12-45f5-aaa1-2a50de96a412",
   "metadata": {},
   "outputs": [],
   "source": [
    "! mpirun -np 5 ./test_1.out"
   ]
  },
  {
   "cell_type": "markdown",
   "id": "13b88cc5-3dc2-4353-ad4d-47c2ca86c8ab",
   "metadata": {
    "tags": []
   },
   "source": [
    "## Test 2:\n",
    "Este programa crea un archivo de texto llamado \"test_2_results.txt\" en el cual distintos procesos escriben en orden el resultado de la suma de dos vectores."
   ]
  },
  {
   "cell_type": "code",
   "execution_count": null,
   "id": "74e7435f-b70c-45fa-89a4-d5a174aa4cb1",
   "metadata": {},
   "outputs": [],
   "source": [
    "%pycat test_2.cpp"
   ]
  },
  {
   "cell_type": "code",
   "execution_count": null,
   "id": "ae142857-3321-4682-80d1-0bc1b4000b01",
   "metadata": {},
   "outputs": [],
   "source": [
    "! g++ -fopenmp test_2.cpp -o test_2.out"
   ]
  },
  {
   "cell_type": "code",
   "execution_count": null,
   "id": "314746b9-4e52-4b8d-ab79-b52e7bbed544",
   "metadata": {},
   "outputs": [],
   "source": [
    "! ./test_2.out"
   ]
  },
  {
   "cell_type": "code",
   "execution_count": null,
   "id": "9899bb0d-032b-45c9-acd7-34a81ee53d62",
   "metadata": {},
   "outputs": [],
   "source": [
    "%pycat test_2_results.txt"
   ]
  }
 ],
 "metadata": {
  "kernelspec": {
   "display_name": "Python 3 (Intel® oneAPI 2022.3)",
   "language": "python",
   "name": "c009-intel_distribution_of_python_3_oneapi-beta05-python"
  },
  "language_info": {
   "codemirror_mode": {
    "name": "ipython",
    "version": 3
   },
   "file_extension": ".py",
   "mimetype": "text/x-python",
   "name": "python",
   "nbconvert_exporter": "python",
   "pygments_lexer": "ipython3",
   "version": "3.9.13"
  }
 },
 "nbformat": 4,
 "nbformat_minor": 5
}
